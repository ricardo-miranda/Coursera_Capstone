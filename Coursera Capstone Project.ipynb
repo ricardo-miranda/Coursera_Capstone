{
    "cells": [
        {
            "metadata": {
                "collapsed": true
            },
            "cell_type": "markdown",
            "source": "# **Coursera Capstone Project**"
        },
        {
            "metadata": {},
            "cell_type": "markdown",
            "source": "## Purpose of this juniper notebook"
        },
        {
            "metadata": {},
            "cell_type": "markdown",
            "source": "In this Juniper Notebook you will find the final assignement project of the IBM Data Science specialization program."
        },
        {
            "metadata": {},
            "cell_type": "markdown",
            "source": "Considering the City of Toronto we will segment it into different neighborhoods using the geographical coordinates of the center of each neighborhood. And then, using a combination of location data and machine learning, we will group the neighborhoods into clusters like this."
        },
        {
            "metadata": {},
            "cell_type": "markdown",
            "source": "Our goal is to find potentioal exploratory variable of why such neighborhood is popular. With this, we expect to have enough evidences that will support the decision of which location is the best option to live."
        },
        {
            "metadata": {},
            "cell_type": "markdown",
            "source": "### Import libraries"
        },
        {
            "metadata": {},
            "cell_type": "code",
            "source": "import pandas as pd\nimport numpy as np",
            "execution_count": 1,
            "outputs": []
        },
        {
            "metadata": {},
            "cell_type": "code",
            "source": "print(\"Hello Capstone Project Course!\")",
            "execution_count": 2,
            "outputs": [
                {
                    "output_type": "stream",
                    "text": "Hello Capstone Project Course!\n",
                    "name": "stdout"
                }
            ]
        },
        {
            "metadata": {},
            "cell_type": "code",
            "source": "",
            "execution_count": null,
            "outputs": []
        }
    ],
    "metadata": {
        "kernelspec": {
            "name": "python3",
            "display_name": "Python 3.7",
            "language": "python"
        },
        "language_info": {
            "name": "python",
            "version": "3.7.10",
            "mimetype": "text/x-python",
            "codemirror_mode": {
                "name": "ipython",
                "version": 3
            },
            "pygments_lexer": "ipython3",
            "nbconvert_exporter": "python",
            "file_extension": ".py"
        }
    },
    "nbformat": 4,
    "nbformat_minor": 1
}